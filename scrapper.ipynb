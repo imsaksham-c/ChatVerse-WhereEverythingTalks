{
 "cells": [
  {
   "cell_type": "code",
   "execution_count": 99,
   "id": "67aee907-f3b5-46b8-bd0f-e2c12eb243e0",
   "metadata": {},
   "outputs": [],
   "source": [
    "from urllib.parse import urlparse, urljoin\n",
    "import requests\n",
    "from bs4 import BeautifulSoup\n",
    "\n",
    "def get_links(url):\n",
    "    try:\n",
    "        headers = {\n",
    "            'User-Agent': 'Mozilla/5.0 (Windows NT 10.0; Win64; x64) AppleWebKit/537.36 (KHTML, like Gecko) Chrome/91.0.4472.124 Safari/537.36'\n",
    "        }\n",
    "        response = requests.get(url, headers=headers)\n",
    "        if response.status_code == 200:\n",
    "            soup = BeautifulSoup(response.text, 'html.parser')\n",
    "            links = [link.get('href') for link in soup.find_all('a', href=True)]\n",
    "            return links\n",
    "        else:\n",
    "            print(f\"Failed to retrieve page {url}: {response.status_code}\")\n",
    "            return []\n",
    "    except Exception as e:\n",
    "        print(f\"An error occurred while retrieving page {url}: {str(e)}\")\n",
    "        return []\n",
    "\n",
    "def normalize_url(url):\n",
    "    parsed_url = urlparse(url)\n",
    "    scheme = parsed_url.scheme.lower()\n",
    "    netloc = parsed_url.netloc.lower().replace('www.', '')  # Remove 'www.' if present\n",
    "    path = parsed_url.path.rstrip('/')  # Remove trailing slashes\n",
    "    normalized_url = f\"{scheme}://{netloc}{path}\"\n",
    "    return normalized_url\n",
    "\n",
    "def filter_links(links, base_domain):\n",
    "    valid_links = []\n",
    "    for link in links:\n",
    "        if link is None:\n",
    "            continue\n",
    "        parsed_url = urlparse(link)\n",
    "        normalized_url = normalize_url(link)\n",
    "        if base_domain in parsed_url.netloc.lower() or base_domain in parsed_url.path.lower():\n",
    "            if not any(normalized_url.lower().endswith(ext) for ext in ('.jpg', '.png', '.gif', '.mp4', '.avi', '.mp3')):\n",
    "                valid_links.append(normalized_url)\n",
    "    return valid_links\n",
    "\n",
    "def scrape_website(url, base_domain, depth, visited=None):\n",
    "    if visited is None:\n",
    "        visited = set()\n",
    "\n",
    "    if depth == 0 or url in visited:\n",
    "        return [url]\n",
    "\n",
    "    visited.add(url)\n",
    "\n",
    "    links = get_links(url)\n",
    "    filtered_links = filter_links(links, base_domain)\n",
    "\n",
    "    collected_links = [url]\n",
    "    for link in filtered_links:\n",
    "        absolute_url = urljoin(url, link)\n",
    "        collected_links.extend(scrape_website(absolute_url, base_domain, depth - 1, visited))\n",
    "\n",
    "    return list(set(collected_links))\n",
    "\n",
    "# Example usage:\n",
    "# url = \"https://camereye.ai/\"\n",
    "# base_domain = urlparse(url).netloc.split('.')[0]\n",
    "# links = scrape_website(url, base_domain, 5)\n"
   ]
  },
  {
   "cell_type": "code",
   "execution_count": 115,
   "id": "d4fb455b-96f3-4b96-9401-5e2b9e1ede10",
   "metadata": {},
   "outputs": [
    {
     "name": "stdout",
     "output_type": "stream",
     "text": [
      "Failed to retrieve page https://camereye.ai/:/camereye.ai: 404\n",
      "Failed to retrieve page https://camereye.ai/:/info@camereye.ai: 404\n"
     ]
    }
   ],
   "source": [
    "url = \"https://camereye.ai/\"\n",
    "base_domain = urlparse(url).netloc.split('.')[0]\n",
    "links = scrape_website(url, base_domain, 5)"
   ]
  },
  {
   "cell_type": "code",
   "execution_count": 116,
   "id": "6cfde7a3-027c-4d55-bf0b-64113964c72b",
   "metadata": {},
   "outputs": [
    {
     "data": {
      "text/plain": [
       "88"
      ]
     },
     "execution_count": 116,
     "metadata": {},
     "output_type": "execute_result"
    }
   ],
   "source": [
    "len(links)"
   ]
  },
  {
   "cell_type": "code",
   "execution_count": 117,
   "id": "e128dc2b-a185-4cea-abfb-97d28713f8b7",
   "metadata": {},
   "outputs": [
    {
     "data": {
      "text/plain": [
       "['https://crunchbase.com/funding_round/camereye-seed--12e21684',\n",
       " 'https://camereye.ai/:/info@camereye.ai',\n",
       " 'https://instagram.com/camereye.ai',\n",
       " 'https://camereye.ai/docs-category/privacy',\n",
       " 'https://camereye.ai/docs-category/product-information',\n",
       " 'https://camereye.ai/comparison',\n",
       " 'https://camereye.ai/shop',\n",
       " 'https://camereye.ai/product/old-siren',\n",
       " 'https://camereye.ai/product-category/add-ons',\n",
       " 'https://camereye.ai/limited-warranty',\n",
       " 'https://camereye.ai/faqs',\n",
       " 'https://linkedin.com/posts/camereye_sdbj-topleaders-techexcellence-activity-7179199236113125376-U-IU',\n",
       " 'https://camereye.ai/product/camereye-edge',\n",
       " 'https://camereye.ai/my-account/lost-password',\n",
       " 'https://camereye.ai/:/product/camereye-edge',\n",
       " 'https://linkedin.com/posts/camereye_camereyeedge-poolsafety-newportbeachsafety-activity-7154210567182864384-1m1I',\n",
       " 'https://camereye.ai/code-compliance',\n",
       " 'https://camereye.ai/2023/08/essential-tips-for-safer-smarter-pools',\n",
       " 'https://camereye.ai/product/astm-approved-ai-pool-monitoring-system-with-siren',\n",
       " 'https://camereye.ai/about',\n",
       " 'https://apps.apple.com/us/app/camereye/id1562956219',\n",
       " 'https://camereye.ai/wp-content/uploads/2023/11/CAMEREYE_Construction-Flyer.pdf',\n",
       " 'https://linkedin.com/posts/camereye_leapyear-poolsafetyreminder-smartpools-activity-7169079816258793472-j8KD',\n",
       " 'https://camereye.ai/docs-category/warranty',\n",
       " 'https://camereye.ai/2023/07/camereye-expands-its-ai-smart-pool-system',\n",
       " 'https://camereye.ai/wp-content/uploads/2023/04/CAMEREYE_ASTMFlyer_2023.pdf',\n",
       " 'https://camereye.ai/author/buchanan',\n",
       " 'https://camereye.ai/docs-category/camereyeapp',\n",
       " 'https://camereye.ai/category/speaking',\n",
       " 'https://camereye.ai/wp-content/uploads/2023/08/CAMEREYE_PermittingConsiderations_FINAL.pdf',\n",
       " 'https://camereye.ai/product-category/camereye',\n",
       " 'https://camereye.ai/original',\n",
       " 'https://linkedin.com/posts/camereye_camereye-shastapools-mpg-activity-7156392308521787392-_kzD',\n",
       " 'https://camereye.ai/:/camereye.ai',\n",
       " 'https://linkedin.com/posts/camereye_nespa-atlanticcity-thepoolandspashow2024-activity-7155282103436300290-yEdx',\n",
       " 'https://camereye.ai/product/camereye-v1-system',\n",
       " 'https://linkedin.com/posts/camereye_thank-you-parks-associates-for-recognizing-activity-7149097694379073536-bLcn',\n",
       " 'https://crunchbase.com/organization/camereye/funding_rounds/funding_rounds_list',\n",
       " 'https://crunchbase.com/organization/camereye',\n",
       " 'https://camereye.ai/:/product/camereye-core',\n",
       " 'https://camereye.ai/installation',\n",
       " 'https://linkedin.com/company/camereye',\n",
       " 'https://camereye.ai/product/indoor-siren-alarm',\n",
       " 'https://facebook.com/camereye',\n",
       " 'https://camereye.ai/product/wifi-door-window-sensor-2-pack-contains-2-door-window-sensors',\n",
       " 'https://camereye.ai/edge',\n",
       " 'https://camereye.ai/product-category/v2',\n",
       " 'https://camereye.ai/:/camereye.ai/shop-selection',\n",
       " 'https://camereye.ai/news',\n",
       " 'https://camereye.ai/category/press-release',\n",
       " 'https://camereye.ai/docs-category/installation',\n",
       " 'https://camereye.ai/news/page/3',\n",
       " 'https://camereye.ai/docs-category/events-and-notifications',\n",
       " 'https://camereye.ai/2023/07/the-future-of-the-pool-industry-now',\n",
       " 'https://camereye.ai/:/camereye.ai/:/product/camereye-core',\n",
       " 'https://camereye.ai/wp-content/uploads/2023/10/CAMEREYE_ASTM_F2208_20230404.pdf',\n",
       " 'https://camereye.ai/professionals',\n",
       " 'https://camereye.ai/news/page/5',\n",
       " 'https://camereye.ai/category/uncategorized',\n",
       " 'https://camereye.ai/news/page/2',\n",
       " 'https://camereye.ai/dealer-dashboard',\n",
       " 'https://camereye.ai',\n",
       " 'https://camereye.ai/terms-of-service',\n",
       " 'https://camereye.ai/category/in-the-news',\n",
       " 'https://camereye.ai/product',\n",
       " 'https://linkedin.com/posts/camereye_nespa-remotemonitoring-poolalarminspection-activity-7156505679992684544-ZgHB',\n",
       " 'https://camereye.ai/docs-category/payment-billing-plans',\n",
       " 'https://camereye.ai/product/camereye-core',\n",
       " 'https://camereye.ai/cares',\n",
       " 'https://linkedin.com/posts/camereye_bluehavenpools-camereye-poolinnovation-activity-7151334399857332224-fFa3',\n",
       " 'https://calendly.com/camereye',\n",
       " 'https://camereye.ai/product/edge-intro-offer',\n",
       " 'https://camereye.ai/shop-selection',\n",
       " 'https://camereye.ai/',\n",
       " 'https://camereye.ai/pool-safety-standards',\n",
       " 'https://camereye.ai/privacy-policy',\n",
       " 'https://camereye.ai/retailer',\n",
       " 'https://camereye.ai/docs-category/pool-alarms',\n",
       " 'https://linkedin.com/posts/camereye_as-you-can-see-sai-r-and-the-camereye-team-activity-7153521407006531584-e6HE',\n",
       " 'https://camereye.ai/docs-category/video-recording-viewing-and-storing',\n",
       " 'https://camereye.ai/2023/11/camereyes-is-now-fully-compliant-with-the-florida-pool-safety-statute',\n",
       " 'https://camereye.ai/:/camereye.ai/:/product/camereye-edge',\n",
       " 'https://camereye.ai/ordering-guidelines',\n",
       " 'https://camereye.ai/product/edge-special',\n",
       " 'https://poolmagazine.com/news/press-releases/camereye-expands-its-ai-smart-pool-system',\n",
       " 'https://camereye.ai/map-policy',\n",
       " 'https://camereye.ai/dealers',\n",
       " 'https://linkedin.com/posts/camereye_activity-7147279108048076800-l6cb']"
      ]
     },
     "execution_count": 117,
     "metadata": {},
     "output_type": "execute_result"
    }
   ],
   "source": [
    "links"
   ]
  },
  {
   "cell_type": "code",
   "execution_count": 118,
   "id": "31dacfd7-9a1c-429e-a32c-fe1807cb753d",
   "metadata": {},
   "outputs": [
    {
     "data": {
      "text/plain": [
       "-82"
      ]
     },
     "execution_count": 118,
     "metadata": {},
     "output_type": "execute_result"
    }
   ],
   "source": [
    "1 - 27\n",
    "2 - 82\n",
    "3 - 82\n",
    "4 - 86"
   ]
  },
  {
   "cell_type": "code",
   "execution_count": null,
   "id": "578c1ee0-1666-4438-9502-e565e2017f73",
   "metadata": {},
   "outputs": [],
   "source": []
  }
 ],
 "metadata": {
  "kernelspec": {
   "display_name": "Python 3 (ipykernel)",
   "language": "python",
   "name": "python3"
  },
  "language_info": {
   "codemirror_mode": {
    "name": "ipython",
    "version": 3
   },
   "file_extension": ".py",
   "mimetype": "text/x-python",
   "name": "python",
   "nbconvert_exporter": "python",
   "pygments_lexer": "ipython3",
   "version": "3.8.19"
  }
 },
 "nbformat": 4,
 "nbformat_minor": 5
}
